{
  "nbformat": 4,
  "nbformat_minor": 0,
  "metadata": {
    "colab": {
      "provenance": []
    },
    "kernelspec": {
      "name": "python3",
      "display_name": "Python 3"
    },
    "language_info": {
      "name": "python"
    }
  },
  "cells": [
    {
      "cell_type": "code",
      "execution_count": null,
      "metadata": {
        "id": "1-gEi6ErGHFs"
      },
      "outputs": [],
      "source": []
    },
    {
      "cell_type": "markdown",
      "source": [
        "**Python Basic Assignment**\n",
        "1. What is Python, and why is it popular ?\n",
        "  - Python is a popular, versatile, and easy-to-learn programming language widely used for web development, data science, machine learning, and automation, due to its simple syntax, extensive libraries, and a large, supportive community.\n",
        "\n",
        "2. What is an interpreter in Python ?\n",
        "  - In Python, an interpreter is a program that reads and executes Python code line by line, translating it into machine-readable instructions.\n",
        "\n",
        "3. What are pre-defined keywords in Python ?\n",
        "  - Keywords in Python are predefined reserved words with special meanings so the interpreter can understand them. They perform specific tasks in Python programming and are a part of its syntax.\n",
        "\n",
        "4. Can keywords be used as variable names ?\n",
        "  - No, you cannot use keywords as variable names in most programming languages because keywords are reserved words with predefined meanings that the interpreter or compiler uses to understand the structure of the code.\n",
        "\n",
        "5. What is mutability in Python ?\n",
        "  - In Python, mutability refers to an object's ability to be changed or modified after it's created, with mutable objects allowing in-place modifications, while immutable objects require creating new objects for any changes.\n",
        "  Explanation:\n",
        "    - Lists: You can add, remove, or modify elements within a list after it's created.\n",
        "    - Integers, Floats, Strings, Tuples, Booleans: Once created, these cannot be changed, attempting to modify them will create a new object.\n",
        "\n",
        "6. Why are lists mutable, but tuples are immutable ?\n",
        "  - Lists: Designed for collections of items that may need modification during program execution. Their mutability supports operations like adding, removing, or changing elements, making them suitable for dynamic datasets.\n",
        "  - Tuples: Intended for fixed collections of items that should remain constant. Their immutability ensures data integrity, making them ideal for representing fixed configurations or heterogeneous data that should not be altered.  \n",
        "  So lists are mutable and tuples are immutable.\n",
        "\n",
        "7. What is the difference between “==” and “is” operators in Python ?\n",
        "  - In Python, == checks for value equality (if two objects have the same value), while is checks for object identity (if two variables point to the same object in memory).\n",
        "    - == (Equality Operator):  \n",
        "      Compares the values of two objects.  \n",
        "      Returns True if the values are the same, False otherwise.  \n",
        "      Example: 1 == 1 is True, and 1 == 2 is False.  \n",
        "      Example: [1, 2] == [1, 2] is True (because they have the same values).\n",
        "    \n",
        "    - is (Identity Operator):  \n",
        "      Checks if two variables refer to the same object in memory.  \n",
        "      Returns True if the variables point to the same object, False otherwise.  \n",
        "      Example: a = [1, 2], b = a, a is b is True (because a and b point to the same list object).  \n",
        "      Example: a = [1, 2]; b = [1, 2]; a is b is False (because they are different objects with the same values).\n",
        "\n",
        "8. What are logical operators in Python ?\n",
        "  - In Python, logical operators, also known as Boolean operators, are used to combine or modify conditions and return a Boolean value (True or False). The main logical operators are **and, or,** and **not**.\n",
        "  \n",
        "9. What is type casting in Python ?\n",
        "  - In Python, type casting (also known as type conversion) is the process of converting a variable's data type from one type to another, like converting an integer to a float or a string to an integer.\n",
        "\n",
        "10. What is the difference between implicit and explicit type casting ?\n",
        "  - In Python, implicit type casting (conversion) happens automatically by the interpreter, while explicit type casting (or type conversion) requires the programmer to use built-in functions like int(), float(), or str() to convert data types.\n",
        "      - Implicit Type Conversion:\n",
        "      The Python interpreter automatically converts a data type to another when it's necessary, without any explicit instruction from the programmer.  \n",
        "        x = 5  \n",
        "        y = 2.5  \n",
        "        z = x + y # x (int) is implicitly converted to float to perform the addition  \n",
        "        print(z)  # Output: 7.5\n",
        "      - Explicit Type Conversion (Type Casting):The programmer uses built-in functions to convert a variable from one data type to another.  \n",
        "      x = \"10\"  \n",
        "      y = int(x)  # Explicitly convert the string \"10\" to an integer  \n",
        "      print(y)  # Output: 10\n",
        "\n",
        "11. What is the purpose of conditional statements in Python ?\n",
        "  - Conditional statements in Python, like if, elif, else and nested if else allow programs to execute different blocks of code based on whether a condition is true or false, enabling dynamic and responsive behavior.\n",
        "\n",
        "12. How does the elif statement work ?\n",
        "  - The “elif” keyword in Python, stands for “else if”. It can be used in conditional statements to check for multiple conditions. For example, if the first condition is false, it moves on to the next “elif” statement to check if that condition is true.  \n",
        "  if - else:  \n",
        "  weather = \"rainy\"  \n",
        "  if weather == \"rainy\":  \n",
        "      print (\"i will not play cricket.\")  \n",
        "  else:  \n",
        "      print (\"I Will Watch TV.\")  \n",
        "  'I will watch TV.' #Output\n",
        "\n",
        "13. What is the difference between for and while loops ?\n",
        "  - In Python, both for and while loops are used to execute a block of code repeatedly, but they differ in their structure and typical use cases:  \n",
        "      **While Loop** repeatedly executed a block of code untill a condition is met.  \n",
        "      **For Loop** iterate overa sequence of elements.\n",
        "\n",
        "14. Describe a scenario where a while loop is more suitable than a for loop.\n",
        "  - for loop is usually better when we want a piece of code to run a certain number of times, and a while loop is better when the condition for the code to keep running is more general, such as having a boolean flag that is only set to true when a certain condition is met in the code block.\n",
        "\n"
      ],
      "metadata": {
        "id": "WTfSWtRmGPUq"
      }
    },
    {
      "cell_type": "code",
      "source": [
        "#1. Write a Python program to print \"Hello, World!\"\n",
        "print (\"Hello, World!\")"
      ],
      "metadata": {
        "colab": {
          "base_uri": "https://localhost:8080/"
        },
        "id": "ZNYg7WojvCXQ",
        "outputId": "1d8ac5e8-b6cd-464d-cd3e-92389fa12508"
      },
      "execution_count": 1,
      "outputs": [
        {
          "output_type": "stream",
          "name": "stdout",
          "text": [
            "Hello, World!\n"
          ]
        }
      ]
    },
    {
      "cell_type": "code",
      "source": [
        "#2. Write a Python program that displays your name and age.\n",
        "\n",
        "# Define variables\n",
        "name = \"Deepak\"\n",
        "age = 34\n",
        "\n",
        "# Display name and age\n",
        "print(\"Name:\", name)\n",
        "print(\"Age:\", age)"
      ],
      "metadata": {
        "colab": {
          "base_uri": "https://localhost:8080/"
        },
        "id": "b4C4joF9vfbh",
        "outputId": "8c0fbcb4-8b22-4018-a031-3c459630fe5d"
      },
      "execution_count": 2,
      "outputs": [
        {
          "output_type": "stream",
          "name": "stdout",
          "text": [
            "Name: Deepak\n",
            "Age: 34\n"
          ]
        }
      ]
    },
    {
      "cell_type": "code",
      "source": [
        "#3. Write code to print all the pre-defined keywords in Python using the keyword library.\n",
        "\n",
        "help ('keywords')"
      ],
      "metadata": {
        "colab": {
          "base_uri": "https://localhost:8080/"
        },
        "id": "UjSP-KJQv9Ue",
        "outputId": "ccd0cd0e-7adf-40f9-ad77-e1fd8ceb4964"
      },
      "execution_count": 13,
      "outputs": [
        {
          "output_type": "stream",
          "name": "stdout",
          "text": [
            "\n",
            "Here is a list of the Python keywords.  Enter any keyword to get more help.\n",
            "\n",
            "False               class               from                or\n",
            "None                continue            global              pass\n",
            "True                def                 if                  raise\n",
            "and                 del                 import              return\n",
            "as                  elif                in                  try\n",
            "assert              else                is                  while\n",
            "async               except              lambda              with\n",
            "await               finally             nonlocal            yield\n",
            "break               for                 not                 \n",
            "\n"
          ]
        }
      ]
    },
    {
      "cell_type": "code",
      "source": [
        "#4. Write a program that checks if a given word is a Python keyword\n",
        "\n",
        "import keyword\n",
        "\n",
        "def check_keyword(word):\n",
        "    if keyword.iskeyword(word):\n",
        "        print(f\"'{word}' is a Python keyword.\")\n",
        "    else:\n",
        "        print(f\"'{word}' is not a Python keyword.\")\n",
        "# Example usage\n",
        "check_keyword('if')    # Output: 'if' is a Python keyword.\n",
        "check_keyword('lambda')   # Output: 'lambda' is a Python keyword.\n",
        "check_keyword('yield') # Output: 'yield' is not a Python keyword."
      ],
      "metadata": {
        "colab": {
          "base_uri": "https://localhost:8080/"
        },
        "id": "ThCuxZvJv44S",
        "outputId": "9ef52a66-a00b-44cc-a7b9-6eee9d969e7d"
      },
      "execution_count": 16,
      "outputs": [
        {
          "output_type": "stream",
          "name": "stdout",
          "text": [
            "'if' is a Python keyword.\n",
            "'lambda' is a Python keyword.\n",
            "'yield' is a Python keyword.\n"
          ]
        }
      ]
    },
    {
      "cell_type": "code",
      "source": [
        "#5. Create a list and tuple in Python, and demonstrate how attempting to change an element works differently for each\n",
        "'''​In Python, lists are mutable, meaning their elements can be changed after creation.\n",
        "Tuples, on the other hand, are immutable, meaning their elements cannot be modified once they are set.'''\n",
        "\n",
        "# Creating a list\n",
        "fruits = [\"apple\", \"banana\", \"cherry\"]\n",
        "\n",
        "# Modifying an element\n",
        "fruits[1] = \"blueberry\"\n",
        "\n",
        "print(fruits)  # Output: ['apple', 'blueberry', 'cherry']\n",
        "\n",
        "# Creating a tuple\n",
        "fruits_tuple = (\"apple\", \"banana\", \"cherry\")\n",
        "\n",
        "# Attempting to modify an element\n",
        "fruits_tuple[1] = \"blueberry\"\n",
        "print(fruits_tuple)  # Output: Error"
      ],
      "metadata": {
        "colab": {
          "base_uri": "https://localhost:8080/",
          "height": 211
        },
        "id": "TUvfp2zV0mwV",
        "outputId": "7246185b-dc5e-49ae-a7f5-f08b34867862"
      },
      "execution_count": 19,
      "outputs": [
        {
          "output_type": "stream",
          "name": "stdout",
          "text": [
            "['apple', 'blueberry', 'cherry']\n"
          ]
        },
        {
          "output_type": "error",
          "ename": "TypeError",
          "evalue": "'tuple' object does not support item assignment",
          "traceback": [
            "\u001b[0;31m---------------------------------------------------------------------------\u001b[0m",
            "\u001b[0;31mTypeError\u001b[0m                                 Traceback (most recent call last)",
            "\u001b[0;32m<ipython-input-19-0ba707e4c2cb>\u001b[0m in \u001b[0;36m<cell line: 0>\u001b[0;34m()\u001b[0m\n\u001b[1;32m     15\u001b[0m \u001b[0;34m\u001b[0m\u001b[0m\n\u001b[1;32m     16\u001b[0m \u001b[0;31m# Attempting to modify an element\u001b[0m\u001b[0;34m\u001b[0m\u001b[0;34m\u001b[0m\u001b[0m\n\u001b[0;32m---> 17\u001b[0;31m \u001b[0mfruits_tuple\u001b[0m\u001b[0;34m[\u001b[0m\u001b[0;36m1\u001b[0m\u001b[0;34m]\u001b[0m \u001b[0;34m=\u001b[0m \u001b[0;34m\"blueberry\"\u001b[0m\u001b[0;34m\u001b[0m\u001b[0;34m\u001b[0m\u001b[0m\n\u001b[0m\u001b[1;32m     18\u001b[0m \u001b[0mprint\u001b[0m\u001b[0;34m(\u001b[0m\u001b[0mfruits_tuple\u001b[0m\u001b[0;34m)\u001b[0m  \u001b[0;31m# Output: 'tuple' object does not support item assignment\u001b[0m\u001b[0;34m\u001b[0m\u001b[0;34m\u001b[0m\u001b[0m\n",
            "\u001b[0;31mTypeError\u001b[0m: 'tuple' object does not support item assignment"
          ]
        }
      ]
    },
    {
      "cell_type": "code",
      "source": [
        "#6. Write a function to demonstrate the behavior of mutable and immutable arguments.\n",
        "def modify_immutable(value):\n",
        "    print(f\"Original value inside function: {value}\")\n",
        "    value += 5\n",
        "    print(f\"Modified value inside function: {value}\")\n",
        "\n",
        "number = 10\n",
        "modify_immutable(number)\n",
        "print(f\"Value after function call: {number}\")\n"
      ],
      "metadata": {
        "colab": {
          "base_uri": "https://localhost:8080/"
        },
        "id": "2CGMJVGn2P8m",
        "outputId": "1de4ad64-bec4-4fb0-9082-8b27c9637d64"
      },
      "execution_count": 54,
      "outputs": [
        {
          "output_type": "stream",
          "name": "stdout",
          "text": [
            "Original value inside function: 10\n",
            "Modified value inside function: 15\n",
            "Value after function call: 10\n"
          ]
        }
      ]
    },
    {
      "cell_type": "code",
      "source": [
        "#7. Write a function to demonstrate the behavior of mutable and immutable arguments.\n",
        "def modify_immutable(value):\n",
        "    print(f\"Original value inside function: {value}\")\n",
        "    value += 5\n",
        "    print(f\"Modified value inside function: {value}\")\n",
        "\n",
        "number = 10\n",
        "modify_immutable(number)\n",
        "print(f\"Value after function call: {number}\")\n"
      ],
      "metadata": {
        "colab": {
          "base_uri": "https://localhost:8080/"
        },
        "id": "jV64LDgz4ZGM",
        "outputId": "00013338-1178-4cf2-9aa2-a90f40e0c52e"
      },
      "execution_count": 55,
      "outputs": [
        {
          "output_type": "stream",
          "name": "stdout",
          "text": [
            "Original value inside function: 10\n",
            "Modified value inside function: 15\n",
            "Value after function call: 10\n"
          ]
        }
      ]
    },
    {
      "cell_type": "code",
      "source": [
        "#8. Write a program to demonstrate the use of logical operators.\n",
        "# Define variables\n",
        "x = 10\n",
        "y = 20\n",
        "z = 5\n",
        "\n",
        "# Using 'and' operator\n",
        "if x > 5 and y > 15:\n",
        "    print(\"Both conditions are true (x > 5 and y > 15).\")\n",
        "\n",
        "# Using 'or' operator\n",
        "if x > 15 or y > 15:\n",
        "    print(\"At least one condition is true (x > 15 or y > 15).\")\n",
        "\n",
        "# Using 'not' operator\n",
        "if not z > 10:\n",
        "    print(\"z is not greater than 10.\")\n",
        "\n",
        "# Combining logical operators\n",
        "if (x > 5 and y > 15) or z < 10:\n",
        "    print(\"Complex condition evaluated to true.\")\n"
      ],
      "metadata": {
        "colab": {
          "base_uri": "https://localhost:8080/"
        },
        "id": "RPHjo7kL4liu",
        "outputId": "2671a745-c5eb-480c-f586-881d3b9e1232"
      },
      "execution_count": 20,
      "outputs": [
        {
          "output_type": "stream",
          "name": "stdout",
          "text": [
            "Both conditions are true (x > 5 and y > 15).\n",
            "At least one condition is true (x > 15 or y > 15).\n",
            "z is not greater than 10.\n",
            "Complex condition evaluated to true.\n"
          ]
        }
      ]
    },
    {
      "cell_type": "code",
      "source": [
        "#9.  Write a Python program to convert user input from string to integer, float, and boolean types.\n",
        "def convert_input(user_input):\n",
        "    # Convert to integer\n",
        "    try:\n",
        "        integer_value = int(user_input)\n",
        "        print(f\"Integer conversion successful: {integer_value}\")\n",
        "    except ValueError:\n",
        "        print(\"Integer conversion failed.\")\n",
        "\n",
        "    # Convert to float\n",
        "    try:\n",
        "        float_value = float(user_input)\n",
        "        print(f\"Float conversion successful: {float_value}\")\n",
        "    except ValueError:\n",
        "        print(\"Float conversion failed.\")\n",
        "\n",
        "    # Convert to boolean\n",
        "    if user_input.lower() in ['true', '1', 't', 'y', 'yes']:\n",
        "        boolean_value = True\n",
        "        print(f\"Boolean conversion successful: {boolean_value}\")\n",
        "    elif user_input.lower() in ['false', '0', 'f', 'n', 'no']:\n",
        "        boolean_value = False\n",
        "        print(f\"Boolean conversion successful: {boolean_value}\")\n",
        "    else:\n",
        "        print(\"Boolean conversion failed.\")\n",
        "\n",
        "if __name__ == \"__main__\":\n",
        "    user_input = input(\"Enter a value: \")\n",
        "    convert_input(user_input)\n",
        "\n"
      ],
      "metadata": {
        "colab": {
          "base_uri": "https://localhost:8080/"
        },
        "id": "TwGDV-Rp6iRa",
        "outputId": "81419441-ce8d-491d-c412-ed837cf506d5"
      },
      "execution_count": 57,
      "outputs": [
        {
          "output_type": "stream",
          "name": "stdout",
          "text": [
            "Enter a value: 25\n",
            "Integer conversion successful: 25\n",
            "Float conversion successful: 25.0\n",
            "Boolean conversion failed.\n"
          ]
        }
      ]
    },
    {
      "cell_type": "code",
      "source": [
        "#10. Write code to demonstrate type casting with list elements\n",
        "\n",
        "# Original list with string elements\n",
        "string_numbers = [\"1\", \"2\", \"3\", \"4\", \"5\"]\n",
        "\n",
        "# Convert each element to an integer using list comprehension\n",
        "int_numbers = [int(num) for num in string_numbers]\n",
        "\n",
        "print(\"Original list:\", string_numbers)\n",
        "print(\"Converted to integers:\", int_numbers)"
      ],
      "metadata": {
        "colab": {
          "base_uri": "https://localhost:8080/"
        },
        "id": "ZSXPggo7P3mo",
        "outputId": "572985cb-11e8-4bad-94d0-ed06b73bd4cc"
      },
      "execution_count": 49,
      "outputs": [
        {
          "output_type": "stream",
          "name": "stdout",
          "text": [
            "Original list: ['1', '2', '3', '4', '5']\n",
            "Converted to integers: [1, 2, 3, 4, 5]\n"
          ]
        }
      ]
    },
    {
      "cell_type": "code",
      "source": [
        "#11. Write a program that checks if a number is positive, negative, or zero\n",
        "\n",
        "# Function to check if a number is positive, negative, or zero\n",
        "def check_number(num):\n",
        "    if num > 0:\n",
        "        return \"Positive\"\n",
        "    elif num < 0:\n",
        "        return \"Negative\"\n",
        "    else:\n",
        "        return \"Zero\"\n",
        "\n",
        "# Main program\n",
        "if __name__ == \"__main__\":\n",
        "    try:\n",
        "        # Prompt the user to input a number\n",
        "        number = float(input(\"Enter a number: \"))\n",
        "        # Call the function and display the result\n",
        "        result = check_number(number)\n",
        "        print(f\"The number is {result}.\")\n",
        "    except ValueError:\n",
        "        print(\"Invalid input! Please enter a valid numeric value.\")"
      ],
      "metadata": {
        "colab": {
          "base_uri": "https://localhost:8080/"
        },
        "id": "ZX7TqlceP3js",
        "outputId": "f4100241-849c-4832-f6b2-4d6d1a6fb20c"
      },
      "execution_count": 50,
      "outputs": [
        {
          "output_type": "stream",
          "name": "stdout",
          "text": [
            "Enter a number: 10\n",
            "The number is Positive.\n"
          ]
        }
      ]
    },
    {
      "cell_type": "code",
      "source": [
        " #12. Write a for loop to print numbers from 1 to 10.\n",
        "\n",
        " for i in range(1, 11):\n",
        "    print(i)"
      ],
      "metadata": {
        "colab": {
          "base_uri": "https://localhost:8080/"
        },
        "id": "zm1ZLjJkvBLb",
        "outputId": "0ee9c1cb-2e15-42d3-caa9-ebf89ed0b1d3"
      },
      "execution_count": 48,
      "outputs": [
        {
          "output_type": "stream",
          "name": "stdout",
          "text": [
            "1\n",
            "2\n",
            "3\n",
            "4\n",
            "5\n",
            "6\n",
            "7\n",
            "8\n",
            "9\n",
            "10\n"
          ]
        }
      ]
    },
    {
      "cell_type": "code",
      "source": [
        "#13. Write a Python program to find the sum of all even numbers between 1 and 50.\n",
        "\n",
        "# Initialize the sum variable\n",
        "even_sum = 0\n",
        "\n",
        "# Iterate over even numbers from 2 to 50\n",
        "for number in range(2, 51, 2):\n",
        "    even_sum += number\n",
        "\n",
        "# Display the result\n",
        "print(f\"The sum of all even numbers between 1 and 50 is: {even_sum}\")\n"
      ],
      "metadata": {
        "colab": {
          "base_uri": "https://localhost:8080/"
        },
        "id": "jf4Gfg-bP132",
        "outputId": "6c8b4c3d-57e7-454e-f9d8-ad8ad0572854"
      },
      "execution_count": 51,
      "outputs": [
        {
          "output_type": "stream",
          "name": "stdout",
          "text": [
            "The sum of all even numbers between 1 and 50 is: 650\n"
          ]
        }
      ]
    },
    {
      "cell_type": "code",
      "source": [
        "#14. Write a program to reverse a string using a while loop.\n",
        "# Function to reverse a string using a while loop\n",
        "def reverse_string(input_string):\n",
        "    reversed_string = \"\"\n",
        "    index = len(input_string) - 1  # Start from the last character\n",
        "    while index >= 0:\n",
        "        reversed_string += input_string[index]\n",
        "        index -= 1\n",
        "    return reversed_string\n",
        "\n",
        "# Main program\n",
        "if __name__ == \"__main__\":\n",
        "    original_string = \"Hello, World!\"\n",
        "    result = reverse_string(original_string)\n",
        "    print(f\"Original String: {original_string}\")\n",
        "    print(f\"Reversed String: {result}\")\n"
      ],
      "metadata": {
        "colab": {
          "base_uri": "https://localhost:8080/"
        },
        "id": "7nv46w8IRCHs",
        "outputId": "aa431300-ca44-4480-ed3e-8eaea1810f44"
      },
      "execution_count": 52,
      "outputs": [
        {
          "output_type": "stream",
          "name": "stdout",
          "text": [
            "Original String: Hello, World!\n",
            "Reversed String: !dlroW ,olleH\n"
          ]
        }
      ]
    },
    {
      "cell_type": "code",
      "source": [
        "#15. Write a Python program to calculate the factorial of a number provided by the user using a while loop.\n",
        "\n",
        "# Function to calculate factorial using a while loop\n",
        "def calculate_factorial(number):\n",
        "    factorial = 1\n",
        "    i = 1\n",
        "    while i <= number:\n",
        "        factorial *= i\n",
        "        i += 1\n",
        "    return factorial\n",
        "\n",
        "# Main program\n",
        "if __name__ == \"__main__\":\n",
        "    try:\n",
        "        # Prompt the user for input\n",
        "        num = int(input(\"Enter a non-negative integer: \"))\n",
        "        if num < 0:\n",
        "            print(\"Factorial is not defined for negative numbers.\")\n",
        "        else:\n",
        "            # Calculate the factorial\n",
        "            result = calculate_factorial(num)\n",
        "            print(f\"The factorial of {num} is {result}.\")\n",
        "    except ValueError:\n",
        "        print(\"Invalid input! Please enter a valid non-negative integer.\")\n"
      ],
      "metadata": {
        "colab": {
          "base_uri": "https://localhost:8080/"
        },
        "id": "1AZX2D5_RCCD",
        "outputId": "4ed667d3-1bbe-4ee9-8914-cb597e5ae9c0"
      },
      "execution_count": 53,
      "outputs": [
        {
          "output_type": "stream",
          "name": "stdout",
          "text": [
            "Enter a non-negative integer: 10\n",
            "The factorial of 10 is 3628800.\n"
          ]
        }
      ]
    }
  ]
}